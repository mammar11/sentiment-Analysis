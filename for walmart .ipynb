{
 "cells": [
  {
   "cell_type": "code",
   "execution_count": 1,
   "id": "be6bb987-68a3-4402-b326-0a88303863b0",
   "metadata": {},
   "outputs": [],
   "source": [
    "import pandas as pd\n",
    "import requests\n",
    "from bs4 import BeautifulSoup"
   ]
  },
  {
   "cell_type": "code",
   "execution_count": 2,
   "id": "165fc5b4-b61a-49cc-8ecb-c02e488226c1",
   "metadata": {},
   "outputs": [],
   "source": [
    " search_query=\"samsung-smart-tvs\""
   ]
  },
  {
   "cell_type": "code",
   "execution_count": 3,
   "id": "83d7fb0f-344a-4aa6-90b5-bcf99da03c0a",
   "metadata": {},
   "outputs": [],
   "source": [
    "base_url=\"https://www.walmart.com/search/?query=\""
   ]
  },
  {
   "cell_type": "code",
   "execution_count": 4,
   "id": "e63b11d2-7385-45c0-83e2-d3a792d34b68",
   "metadata": {},
   "outputs": [
    {
     "data": {
      "text/plain": [
       "'https://www.walmart.com/search/?query=samsung-smart-tvs'"
      ]
     },
     "execution_count": 4,
     "metadata": {},
     "output_type": "execute_result"
    }
   ],
   "source": [
    "url= base_url+search_query\n",
    "url"
   ]
  },
  {
   "cell_type": "code",
   "execution_count": 5,
   "id": "12bc74b2-9493-4153-9f7e-dfd4f3ab24bd",
   "metadata": {},
   "outputs": [],
   "source": [
    "header={\n",
    "    'User-Agent': 'Mozilla/5.0 (Windows NT 10.0; Win64; x64) AppleWebKit/537.36 (KHTML, like Gecko) Chrome/116.0.0.0 Safari/537.36',\n",
    "    'referer':'https://www.walmart.com/search?q=samsung%20smart%20tv&typeahead=samsung'\n",
    "}"
   ]
  },
  {
   "cell_type": "code",
   "execution_count": 6,
   "id": "0c7f3345-89dc-4918-b7a2-e9fcc773372e",
   "metadata": {},
   "outputs": [],
   "source": [
    "search_response=requests.get(url,headers=header)"
   ]
  },
  {
   "cell_type": "code",
   "execution_count": 7,
   "id": "99c16b9a-f164-4fd9-b6f9-e4a82fe9b1c0",
   "metadata": {},
   "outputs": [
    {
     "data": {
      "text/plain": [
       "200"
      ]
     },
     "execution_count": 7,
     "metadata": {},
     "output_type": "execute_result"
    }
   ],
   "source": [
    "search_response.status_code"
   ]
  },
  {
   "cell_type": "code",
   "execution_count": 8,
   "id": "2e1eaaae-dcdd-41df-ab24-aab600c4c8ad",
   "metadata": {},
   "outputs": [],
   "source": [
    "# search_response.text"
   ]
  },
  {
   "cell_type": "code",
   "execution_count": 9,
   "id": "8fa7590f-287a-47ec-823e-c2a9dbd050cd",
   "metadata": {},
   "outputs": [],
   "source": [
    "# search_response.cookies"
   ]
  },
  {
   "cell_type": "code",
   "execution_count": 10,
   "id": "a38ce4e5-e586-4531-91aa-9c224199a720",
   "metadata": {},
   "outputs": [],
   "source": [
    "cookie={} # insert request cookies within{}\n",
    "def getWalmartSearch(search_query):\n",
    "    url=\"https://www.walmart.com/search/?query=\"+search_query\n",
    "    print(url)\n",
    "    page=requests.get(url,headers=header)\n",
    "    if page.status_code==200:\n",
    "        return page\n",
    "    else:\n",
    "        return \"Error\""
   ]
  },
  {
   "cell_type": "code",
   "execution_count": 11,
   "id": "aabd59a2-2f0b-4229-9391-b614d3e36ffb",
   "metadata": {},
   "outputs": [
    {
     "name": "stdout",
     "output_type": "stream",
     "text": [
      "https://www.walmart.com/search/?query=samsung-smart-tvs\n"
     ]
    }
   ],
   "source": [
    "product_names=[]\n",
    "response=getWalmartSearch('samsung-smart-tvs')\n",
    "soup=BeautifulSoup(response.content)\n",
    "for names in soup.findAll('div',{'class':'sans-serif mid-gray relative flex flex-column w-100 hide-child-opacity'}):\n",
    "    product_names.append(names.a.span.text.strip())    "
   ]
  },
  {
   "cell_type": "code",
   "execution_count": 12,
   "id": "8b18dd41-3c66-4ad4-ac95-5be53fa565f8",
   "metadata": {},
   "outputs": [
    {
     "data": {
      "text/plain": [
       "['SAMSUNG 65\" Class 4K Crystal UHD (2160P) LED Smart TV with HDR UN65TU7000B',\n",
       " 'SAMSUNG 75\" Class CU7000B Crystal UHD 4K Smart Television UN75CU7000BXZA',\n",
       " 'SAMSUNG 55\" Class CU8000B Crystal UHD 4K Smart Television UN55CU8000BXZA',\n",
       " 'SAMSUNG 65\" Class CU7000B Crystal UHD 4K Smart Television UN65CU7000BXZA',\n",
       " 'Sony 43 Class X80K 4K Ultra HD LED with Smart Google TV KD43X80K- 2022 Model']"
      ]
     },
     "execution_count": 12,
     "metadata": {},
     "output_type": "execute_result"
    }
   ],
   "source": [
    "product_names[:5]"
   ]
  },
  {
   "cell_type": "code",
   "execution_count": 13,
   "id": "3eb2ad2a-cbf6-40eb-ac95-9a7d7462c064",
   "metadata": {},
   "outputs": [
    {
     "data": {
      "text/plain": [
       "[<div class=\"sans-serif mid-gray relative flex flex-column w-100 hide-child-opacity\" data-item-id=\"2DI64LYHCAAC\" role=\"group\"><a class=\"absolute w-100 h-100 z-1 hide-sibling-opacity\" href=\"/ip/SAMSUNG-65-Class-4K-Crystal-UHD-2160P-LED-Smart-TV-with-HDR-UN65TU7000B/933852540?from=/search\" link-identifier=\"933852540\" target=\"\"><span class=\"w_iUH7\">SAMSUNG 65\" Class 4K Crystal UHD (2160P) LED Smart TV with HDR UN65TU7000B<!-- --> </span></a><div class=\"\" data-testid=\"list-view\"><div class=\"\"><div class=\"h2 relative mb2\"></div><div class=\"relative\"><div class=\"relative overflow-hidden\" style=\"max-width:290px;height:0;padding-bottom:min(392px, 135.17241379310346%);align-self:center;width:min(290px, 100%)\"><img alt='SAMSUNG 65\" Class 4K Crystal UHD (2160P) LED Smart TV with HDR UN65TU7000B' class=\"absolute top-0 left-0\" data-testid=\"productTileImage\" height=\"\" id=\"is-0-productImage-0\" loading=\"eager\" src=\"https://i5.walmartimages.com/asr/4f80467e-7b90-410a-9493-d15e6616b047.03d49a2a3f4fb25f04d4c2250be7ddc2.jpeg?odnHeight=784&amp;odnWidth=580&amp;odnBg=FFFFFF\" width=\"\"/></div><div class=\"z-2 absolute bottom--1\"><div class=\"relative dib\"><button aria-label='Add to cart - SAMSUNG 65\" Class 4K Crystal UHD (2160P) LED Smart TV with HDR UN65TU7000B' class=\"w_hhLG w_8nsR w_jDfj pointer bn sans-serif b ph2 flex items-center justify-center w-auto shadow-1\" data-automation-id=\"add-to-cart\" data-pcss-hide=\"true\" type=\"button\"><i class=\"ld ld-Plus\" style=\"font-size:1.5rem;vertical-align:-0.25em;width:1.5rem;height:1.5rem;box-sizing:content-box\" title=\"add to cart\"></i><span class=\"mr2\">Add</span></button></div></div></div><div class=\"mt5 mb0\" data-testid=\"variant-2DI64LYHCAAC\" style=\"height:24px\"></div></div><div class=\"\"><div class=\"flex flex-wrap justify-start items-center lh-title mb1\" data-automation-id=\"product-price\"><div aria-hidden=\"true\" class=\"mr1 mr2-xl b black lh-copy f5 f4-l\"><span class=\"f3 mr1\"></span><span class=\"f6 f5-l\" style=\"vertical-align:0.65ex;margin-right:2px\">$</span><span class=\"f2\">497</span><span class=\"f6 f5-l\" style=\"vertical-align:0.75ex\">99</span></div><span class=\"w_iUH7\">current price $497.99</span></div><span class=\"w_V_DM\" style=\"-webkit-line-clamp:3;padding-bottom:0em;margin-bottom:-0em\"><span class=\"normal dark-gray mb0 mt1 lh-title f6 f5-l lh-copy\" data-automation-id=\"product-title\">SAMSUNG 65\" Class 4K Crystal UHD (2160P) LED Smart TV with HDR UN65TU7000B</span></span><div class=\"flex items-center mt2\"><span class=\"black inline-flex mr1\"><i aria-hidden=\"true\" class=\"ld ld-StarFill\" style=\"font-size:12px;vertical-align:-0.175em;width:12px;height:12px;box-sizing:content-box\"></i><i aria-hidden=\"true\" class=\"ld ld-StarFill\" style=\"font-size:12px;vertical-align:-0.175em;width:12px;height:12px;box-sizing:content-box\"></i><i aria-hidden=\"true\" class=\"ld ld-StarFill\" style=\"font-size:12px;vertical-align:-0.175em;width:12px;height:12px;box-sizing:content-box\"></i><i aria-hidden=\"true\" class=\"ld ld-StarFill\" style=\"font-size:12px;vertical-align:-0.175em;width:12px;height:12px;box-sizing:content-box\"></i><i aria-hidden=\"true\" class=\"ld ld-StarHalf\" style=\"font-size:12px;vertical-align:-0.175em;width:12px;height:12px;box-sizing:content-box\"></i></span><span aria-hidden=\"true\" class=\"sans-serif gray f7\">12761</span><span class=\"w_iUH7\">4.4 out of 5 Stars. 12761 reviews</span></div><div></div><div class=\"flex items-center mv2\"><div class=\"f7 mr1 blue b lh-copy\">Save with</div><img alt=\"Walmart Plus\" class=\"flex\" height=\"20\" loading=\"lazy\" src=\"//i5.walmartimages.com/dfw/63fd9f59-ac39/29c6759d-7f14-49fa-bd3a-b870eb4fb8fb/v1/wplus-icon-blue.svg\" width=\"20\"/></div><div class=\"mv2\" data-automation-id=\"fulfillment-badge\"><div class=\"f7 flex self-baseline dark-gray\"><div>Free shipping, arrives <span class=\"b\">in 3+ days</span></div></div></div></div></div></div>,\n",
       " <div class=\"sans-serif mid-gray relative flex flex-column w-100 hide-child-opacity\" data-item-id=\"17CX9Y890LSZ\" role=\"group\"><a class=\"absolute w-100 h-100 z-1 hide-sibling-opacity\" href=\"/ip/SAMSUNG-75-Class-CU7000B-Crystal-UHD-4K-Smart-Television-UN75CU7000BXZA/1738646759?athbdg=L1103&amp;from=/search\" link-identifier=\"1738646759\" target=\"\"><span class=\"w_iUH7\">SAMSUNG 75\" Class CU7000B Crystal UHD 4K Smart Television UN75CU7000BXZA<!-- --> </span></a><div class=\"\" data-testid=\"list-view\"><div class=\"\"><div class=\"h2 relative mb2\"><span class=\"w_yTSq b w_1L84 w_MwbK\">In 200+ people's carts</span></div><div class=\"relative\"><div class=\"relative overflow-hidden\" style=\"max-width:290px;height:0;padding-bottom:min(392px, 135.17241379310346%);align-self:center;width:min(290px, 100%)\"><img alt='SAMSUNG 75\" Class CU7000B Crystal UHD 4K Smart Television UN75CU7000BXZA' class=\"absolute top-0 left-0\" data-testid=\"productTileImage\" height=\"\" id=\"is-0-productImage-1\" loading=\"eager\" src=\"https://i5.walmartimages.com/asr/76061f73-bf65-4f71-934a-c42e5ffa8338.9fd15e6bb578750ebdde8027bfdd3bdc.jpeg?odnHeight=784&amp;odnWidth=580&amp;odnBg=FFFFFF\" width=\"\"/></div><div class=\"z-2 absolute bottom--1\"><div class=\"relative dib\"><button aria-label='Add to cart - SAMSUNG 75\" Class CU7000B Crystal UHD 4K Smart Television UN75CU7000BXZA' class=\"w_hhLG w_8nsR w_jDfj pointer bn sans-serif b ph2 flex items-center justify-center w-auto shadow-1\" data-automation-id=\"add-to-cart\" data-pcss-hide=\"true\" type=\"button\"><i class=\"ld ld-Plus\" style=\"font-size:1.5rem;vertical-align:-0.25em;width:1.5rem;height:1.5rem;box-sizing:content-box\" title=\"add to cart\"></i><span class=\"mr2\">Add</span></button></div></div></div><div class=\"mt5 mb0\" data-testid=\"variant-17CX9Y890LSZ\" style=\"height:24px\"></div></div><div class=\"\"><div class=\"flex flex-wrap justify-start items-center lh-title mb1\" data-automation-id=\"product-price\"><div aria-hidden=\"true\" class=\"mr1 mr2-xl b black lh-copy f5 f4-l\"><span class=\"f3 mr1\"></span><span class=\"f6 f5-l\" style=\"vertical-align:0.65ex;margin-right:2px\">$</span><span class=\"f2\">747</span><span class=\"f6 f5-l\" style=\"vertical-align:0.75ex\">99</span></div><span class=\"w_iUH7\">current price $747.99</span></div><span class=\"w_V_DM\" style=\"-webkit-line-clamp:3;padding-bottom:0em;margin-bottom:-0em\"><span class=\"normal dark-gray mb0 mt1 lh-title f6 f5-l lh-copy\" data-automation-id=\"product-title\">SAMSUNG 75\" Class CU7000B Crystal UHD 4K Smart Television UN75CU7000BXZA</span></span><div class=\"flex items-center mt2\"><span class=\"black inline-flex mr1\"><i aria-hidden=\"true\" class=\"ld ld-StarFill\" style=\"font-size:12px;vertical-align:-0.175em;width:12px;height:12px;box-sizing:content-box\"></i><i aria-hidden=\"true\" class=\"ld ld-StarFill\" style=\"font-size:12px;vertical-align:-0.175em;width:12px;height:12px;box-sizing:content-box\"></i><i aria-hidden=\"true\" class=\"ld ld-StarFill\" style=\"font-size:12px;vertical-align:-0.175em;width:12px;height:12px;box-sizing:content-box\"></i><i aria-hidden=\"true\" class=\"ld ld-StarFill\" style=\"font-size:12px;vertical-align:-0.175em;width:12px;height:12px;box-sizing:content-box\"></i><i aria-hidden=\"true\" class=\"ld ld-StarHalf\" style=\"font-size:12px;vertical-align:-0.175em;width:12px;height:12px;box-sizing:content-box\"></i></span><span aria-hidden=\"true\" class=\"sans-serif gray f7\">571</span><span class=\"w_iUH7\">4.6 out of 5 Stars. 571 reviews</span></div><div></div><div class=\"mv2\" data-automation-id=\"fulfillment-badge\"><div class=\"f7 flex self-baseline dark-gray\"><div>Free pickup <span class=\"b\">tomorrow</span></div></div><div class=\"f7 flex self-baseline dark-gray\"><div>Free shipping available</div></div></div></div></div></div>,\n",
       " <div class=\"sans-serif mid-gray relative flex flex-column w-100 hide-child-opacity\" data-item-id=\"1LJGEFT4UD5X\" role=\"group\"><a class=\"absolute w-100 h-100 z-1 hide-sibling-opacity\" href=\"https://wrd.walmart.com/track?adUid=bbe3c981-3273-40fb-9b03-eaf01aad48a1&amp;pgId=samsung-smart-tvs&amp;spQs=VyrdYhtCyQrev0n5_8OuLBBuxbU9HnhMqo5bo2Bd4LPQKPEHUSqQZsP3E_W5ZVGdsrlLzmTOLca4CgMxYFQ8d81Hot76l2PNjKPn-jD6vGho6oKZ4emUwE2jp9N9cQmP0564n2ZQq8_x1IgppNr-BP-_1GvnXcWUhfXcAk2M9YDENFCZe4YjcfM9I3H8R0HkVou3_w1O7zcNkYR_bljlY5J3mITg_xivqsJYeFpsNJI&amp;storeId=3081&amp;pt=search&amp;mloc=sp-search-middle&amp;bkt=ace_2984%7Ccoldstart_on%7Csearch_default&amp;pltfm=desktop&amp;rdf=1&amp;plmt=sp-search-middle~desktop~&amp;eventST=click&amp;pos=3&amp;bt=1&amp;tax=3944_1060825&amp;et=tail&amp;st=tail&amp;rd=https%3A%2F%2Fwww.walmart.com%2Fip%2FSAMSUNG-55-Class-CU8000B-Crystal-UHD-4K-Smart-Television-UN55CU8000BXZA%2F2351468783%3FadsRedirect%3Dtrue&amp;couponState=na&amp;/ip/SAMSUNG-55-Class-CU8000B-Crystal-UHD-4K-Smart-Television-UN55CU8000BXZA/2351468783\" link-identifier=\"2351468783\" target=\"\"><span class=\"w_iUH7\">SAMSUNG 55\" Class CU8000B Crystal UHD 4K Smart Television UN55CU8000BXZA<!-- --> </span></a><div class=\"\" data-testid=\"list-view\"><div class=\"\"><div class=\"h2 relative mb2\"></div><div class=\"relative\"><div class=\"relative overflow-hidden\" style=\"max-width:290px;height:0;padding-bottom:min(392px, 135.17241379310346%);align-self:center;width:min(290px, 100%)\"><img alt='SAMSUNG 55\" Class CU8000B Crystal UHD 4K Smart Television UN55CU8000BXZA' class=\"absolute top-0 left-0\" data-testid=\"productTileImage\" height=\"\" id=\"is-0-productImage-2\" loading=\"eager\" src=\"https://i5.walmartimages.com/seo/SAMSUNG-55-Class-CU8000B-Crystal-UHD-4K-Smart-Television-UN55CU8000BXZA_8bdf4f30-007e-4c01-a68a-47705534b89a.d13e10d601fa52e42005ef3d80cae5b7.jpeg?odnHeight=784&amp;odnWidth=580&amp;odnBg=FFFFFF\" width=\"\"/></div><div class=\"z-2 absolute bottom--1\"><div class=\"relative dib\"><button aria-label='Add to cart - SAMSUNG 55\" Class CU8000B Crystal UHD 4K Smart Television UN55CU8000BXZA' class=\"w_hhLG w_8nsR w_jDfj pointer bn sans-serif b ph2 flex items-center justify-center w-auto shadow-1\" data-automation-id=\"add-to-cart\" data-pcss-hide=\"true\" type=\"button\"><i class=\"ld ld-Plus\" style=\"font-size:1.5rem;vertical-align:-0.25em;width:1.5rem;height:1.5rem;box-sizing:content-box\" title=\"add to cart\"></i><span class=\"mr2\">Add</span></button></div></div></div><div class=\"mt5 mb0\" data-testid=\"variant-1LJGEFT4UD5X\" style=\"height:24px\"><div class=\"flex items-center lh-title h2-l normal\"><span class=\"gray f7\">Sponsored</span></div></div></div><div class=\"\"><div class=\"flex flex-wrap justify-start items-center lh-title mb1\" data-automation-id=\"product-price\"><div aria-hidden=\"true\" class=\"mr1 mr2-xl b black lh-copy f5 f4-l\"><span class=\"f3 mr1\"></span><span class=\"f6 f5-l\" style=\"vertical-align:0.65ex;margin-right:2px\">$</span><span class=\"f2\">497</span><span class=\"f6 f5-l\" style=\"vertical-align:0.75ex\">99</span></div><span class=\"w_iUH7\">current price $497.99</span></div><span class=\"w_V_DM\" style=\"-webkit-line-clamp:3;padding-bottom:0em;margin-bottom:-0em\"><span class=\"normal dark-gray mb0 mt1 lh-title f6 f5-l lh-copy\" data-automation-id=\"product-title\">SAMSUNG 55\" Class CU8000B Crystal UHD 4K Smart Television UN55CU8000BXZA</span></span><div class=\"flex items-center mt2\"><span class=\"black inline-flex mr1\"><i aria-hidden=\"true\" class=\"ld ld-StarFill\" style=\"font-size:12px;vertical-align:-0.175em;width:12px;height:12px;box-sizing:content-box\"></i><i aria-hidden=\"true\" class=\"ld ld-StarFill\" style=\"font-size:12px;vertical-align:-0.175em;width:12px;height:12px;box-sizing:content-box\"></i><i aria-hidden=\"true\" class=\"ld ld-StarFill\" style=\"font-size:12px;vertical-align:-0.175em;width:12px;height:12px;box-sizing:content-box\"></i><i aria-hidden=\"true\" class=\"ld ld-StarFill\" style=\"font-size:12px;vertical-align:-0.175em;width:12px;height:12px;box-sizing:content-box\"></i><i aria-hidden=\"true\" class=\"ld ld-StarHalf\" style=\"font-size:12px;vertical-align:-0.175em;width:12px;height:12px;box-sizing:content-box\"></i></span><span aria-hidden=\"true\" class=\"sans-serif gray f7\">198</span><span class=\"w_iUH7\">4.6 out of 5 Stars. 198 reviews</span></div><div></div><div class=\"flex items-center mv2\"><div class=\"f7 mr1 blue b lh-copy\">Save with</div><img alt=\"Walmart Plus\" class=\"flex\" height=\"20\" loading=\"lazy\" src=\"//i5.walmartimages.com/dfw/63fd9f59-ac39/29c6759d-7f14-49fa-bd3a-b870eb4fb8fb/v1/wplus-icon-blue.svg\" width=\"20\"/></div><div class=\"mv2\" data-automation-id=\"fulfillment-badge\"><div class=\"f7 flex self-baseline dark-gray\"><div>Free shipping, arrives <span class=\"b\">in 2 days</span></div></div></div></div></div></div>,\n",
       " <div class=\"sans-serif mid-gray relative flex flex-column w-100 hide-child-opacity\" data-item-id=\"3U6XQ3NEU8JM\" role=\"group\"><a class=\"absolute w-100 h-100 z-1 hide-sibling-opacity\" href=\"https://wrd.walmart.com/track?adUid=bbe3c981-3273-40fb-9b03-eaf01aad48a1&amp;pgId=samsung-smart-tvs&amp;spQs=faUi8SDIa81_TPeF-QzSQ_EX59xHgR0IJeaOozseDrEZl4cYESMIXxnpXo2JNwmZYYCl30ExcVjcgQ03N2lO0VG6D-mTj7fBVMRjvE8dvabJp-F1VJHumdAPK15-2r1qqLIomO1pfUEYdWrRsl5N2JeK6h_h0On0kz-zInwxCbhbTJC01EpGw-nmu3i7Ep6wkWp_6oFq82PTlPU2rak16G7PsNtvbRQ5MfQ0hp5k7Gs&amp;storeId=3081&amp;pt=search&amp;mloc=sp-search-middle&amp;bkt=ace_2984%7Ccoldstart_on%7Csearch_default&amp;pltfm=desktop&amp;rdf=1&amp;plmt=sp-search-middle~desktop~&amp;eventST=click&amp;pos=4&amp;bt=1&amp;tax=3944_1060825&amp;et=tail&amp;st=tail&amp;rd=https%3A%2F%2Fwww.walmart.com%2Fip%2FSAMSUNG-65-Class-CU7000B-Crystal-UHD-4K-Smart-Television-UN65CU7000BXZA%2F1890620486%3Fathbdg%3DL1102%26adsRedirect%3Dtrue&amp;couponState=na&amp;athbdg=L1102\" link-identifier=\"1890620486\" target=\"\"><span class=\"w_iUH7\">SAMSUNG 65\" Class CU7000B Crystal UHD 4K Smart Television UN65CU7000BXZA<!-- --> </span></a><div class=\"\" data-testid=\"list-view\"><div class=\"\"><div class=\"h2 relative mb2\"><span class=\"w_yTSq b w_1L84 w_MwbK\">100+ bought since yesterday</span></div><div class=\"relative\"><div class=\"relative overflow-hidden\" style=\"max-width:290px;height:0;padding-bottom:min(392px, 135.17241379310346%);align-self:center;width:min(290px, 100%)\"><img alt='SAMSUNG 65\" Class CU7000B Crystal UHD 4K Smart Television UN65CU7000BXZA' class=\"absolute top-0 left-0\" data-testid=\"productTileImage\" height=\"\" id=\"is-0-productImage-3\" loading=\"eager\" src=\"https://i5.walmartimages.com/seo/SAMSUNG-65-Class-CU7000B-Crystal-UHD-4K-Smart-Television-UN65CU7000BXZA_76061f73-bf65-4f71-934a-c42e5ffa8338.9fd15e6bb578750ebdde8027bfdd3bdc.jpeg?odnHeight=784&amp;odnWidth=580&amp;odnBg=FFFFFF\" width=\"\"/></div><div class=\"z-2 absolute bottom--1\"><div class=\"relative dib\"><button aria-label='Add to cart - SAMSUNG 65\" Class CU7000B Crystal UHD 4K Smart Television UN65CU7000BXZA' class=\"w_hhLG w_8nsR w_jDfj pointer bn sans-serif b ph2 flex items-center justify-center w-auto shadow-1\" data-automation-id=\"add-to-cart\" data-pcss-hide=\"true\" type=\"button\"><i class=\"ld ld-Plus\" style=\"font-size:1.5rem;vertical-align:-0.25em;width:1.5rem;height:1.5rem;box-sizing:content-box\" title=\"add to cart\"></i><span class=\"mr2\">Add</span></button></div></div></div><div class=\"mt5 mb0\" data-testid=\"variant-3U6XQ3NEU8JM\" style=\"height:24px\"><div class=\"flex items-center lh-title h2-l normal\"><span class=\"gray f7\">Sponsored</span></div></div></div><div class=\"\"><div class=\"flex flex-wrap justify-start items-center lh-title mb1\" data-automation-id=\"product-price\"><div aria-hidden=\"true\" class=\"mr1 mr2-xl b black lh-copy f5 f4-l\"><span class=\"f3 mr1\"></span><span class=\"f6 f5-l\" style=\"vertical-align:0.65ex;margin-right:2px\">$</span><span class=\"f2\">477</span><span class=\"f6 f5-l\" style=\"vertical-align:0.75ex\">99</span></div><span class=\"w_iUH7\">current price $477.99</span></div><span class=\"w_V_DM\" style=\"-webkit-line-clamp:3;padding-bottom:0em;margin-bottom:-0em\"><span class=\"normal dark-gray mb0 mt1 lh-title f6 f5-l lh-copy\" data-automation-id=\"product-title\">SAMSUNG 65\" Class CU7000B Crystal UHD 4K Smart Television UN65CU7000BXZA</span></span><div class=\"flex items-center mt2\"><span class=\"black inline-flex mr1\"><i aria-hidden=\"true\" class=\"ld ld-StarFill\" style=\"font-size:12px;vertical-align:-0.175em;width:12px;height:12px;box-sizing:content-box\"></i><i aria-hidden=\"true\" class=\"ld ld-StarFill\" style=\"font-size:12px;vertical-align:-0.175em;width:12px;height:12px;box-sizing:content-box\"></i><i aria-hidden=\"true\" class=\"ld ld-StarFill\" style=\"font-size:12px;vertical-align:-0.175em;width:12px;height:12px;box-sizing:content-box\"></i><i aria-hidden=\"true\" class=\"ld ld-StarFill\" style=\"font-size:12px;vertical-align:-0.175em;width:12px;height:12px;box-sizing:content-box\"></i><i aria-hidden=\"true\" class=\"ld ld-StarHalf\" style=\"font-size:12px;vertical-align:-0.175em;width:12px;height:12px;box-sizing:content-box\"></i></span><span aria-hidden=\"true\" class=\"sans-serif gray f7\">748</span><span class=\"w_iUH7\">4.5 out of 5 Stars. 748 reviews</span></div><div></div><div class=\"flex items-center mv2\"><div class=\"f7 mr1 blue b lh-copy\">Save with</div><img alt=\"Walmart Plus\" class=\"flex\" height=\"20\" loading=\"lazy\" src=\"//i5.walmartimages.com/dfw/63fd9f59-ac39/29c6759d-7f14-49fa-bd3a-b870eb4fb8fb/v1/wplus-icon-blue.svg\" width=\"20\"/></div><div class=\"mv2\" data-automation-id=\"fulfillment-badge\"><div class=\"f7 flex self-baseline dark-gray\"><div>Free pickup <span class=\"b\">tomorrow</span></div></div><div class=\"f7 flex self-baseline dark-gray\"><div>Free shipping, arrives <span class=\"b\">in 2 days</span></div></div></div></div></div></div>,\n",
       " <div class=\"sans-serif mid-gray relative flex flex-column w-100 hide-child-opacity\" data-item-id=\"258ZK8HA4YC8\" role=\"group\"><a class=\"absolute w-100 h-100 z-1 hide-sibling-opacity\" href=\"/ip/Sony-43-Class-X80K-4K-Ultra-HD-LED-with-Smart-Google-TV-KD43X80K-2022-Model/927277565?from=/search\" link-identifier=\"927277565\" target=\"\"><span class=\"w_iUH7\">Sony 43 Class X80K 4K Ultra HD LED with Smart Google TV KD43X80K- 2022 Model<!-- --> </span></a><div class=\"\" data-testid=\"list-view\"><div class=\"\"><div class=\"h2 relative mb2\"></div><div class=\"relative\"><div class=\"relative overflow-hidden\" style=\"max-width:290px;height:0;padding-bottom:min(392px, 135.17241379310346%);align-self:center;width:min(290px, 100%)\"><img alt=\"Sony 43 Class X80K 4K Ultra HD LED with Smart Google TV KD43X80K- 2022 Model\" class=\"absolute top-0 left-0\" data-testid=\"productTileImage\" height=\"\" id=\"is-0-productImage-5\" loading=\"lazy\" src=\"https://i5.walmartimages.com/asr/cff0448a-24c2-4770-b140-a0d2d08f0e2b.f778b5b00d4b279d020ab1325e89ce75.jpeg?odnHeight=784&amp;odnWidth=580&amp;odnBg=FFFFFF\" srcset=\"https://i5.walmartimages.com/asr/cff0448a-24c2-4770-b140-a0d2d08f0e2b.f778b5b00d4b279d020ab1325e89ce75.jpeg?odnHeight=392&amp;odnWidth=290&amp;odnBg=FFFFFF 1x, https://i5.walmartimages.com/asr/cff0448a-24c2-4770-b140-a0d2d08f0e2b.f778b5b00d4b279d020ab1325e89ce75.jpeg?odnHeight=784&amp;odnWidth=580&amp;odnBg=FFFFFF 2x\" width=\"\"/></div><div class=\"z-2 absolute bottom--1\"><div class=\"relative dib\"><button aria-label=\"Add to cart - Sony 43 Class X80K 4K Ultra HD LED with Smart Google TV KD43X80K- 2022 Model\" class=\"w_hhLG w_8nsR w_jDfj pointer bn sans-serif b ph2 flex items-center justify-center w-auto shadow-1\" data-automation-id=\"add-to-cart\" data-pcss-hide=\"true\" type=\"button\"><i class=\"ld ld-Plus\" style=\"font-size:1.5rem;vertical-align:-0.25em;width:1.5rem;height:1.5rem;box-sizing:content-box\" title=\"add to cart\"></i><span class=\"mr2\">Add</span></button></div></div></div><div class=\"mt5 mb0\" data-testid=\"variant-258ZK8HA4YC8\" style=\"height:24px\"></div></div><div class=\"\"><div class=\"flex flex-wrap justify-start items-center lh-title mb1\" data-automation-id=\"product-price\"><div aria-hidden=\"true\" class=\"mr1 mr2-xl b black lh-copy f5 f4-l\"><span class=\"f3 mr1\"></span><span class=\"f6 f5-l\" style=\"vertical-align:0.65ex;margin-right:2px\">$</span><span class=\"f2\">548</span><span class=\"f6 f5-l\" style=\"vertical-align:0.75ex\">00</span></div><span class=\"w_iUH7\">current price $548.00</span></div><span class=\"w_V_DM\" style=\"-webkit-line-clamp:3;padding-bottom:0em;margin-bottom:-0em\"><span class=\"normal dark-gray mb0 mt1 lh-title f6 f5-l lh-copy\" data-automation-id=\"product-title\">Sony 43 Class X80K 4K Ultra HD LED with Smart Google TV KD43X80K- 2022 Model</span></span><div class=\"flex items-center mt2\"><span class=\"black inline-flex mr1\"><i aria-hidden=\"true\" class=\"ld ld-StarFill\" style=\"font-size:12px;vertical-align:-0.175em;width:12px;height:12px;box-sizing:content-box\"></i><i aria-hidden=\"true\" class=\"ld ld-StarFill\" style=\"font-size:12px;vertical-align:-0.175em;width:12px;height:12px;box-sizing:content-box\"></i><i aria-hidden=\"true\" class=\"ld ld-StarFill\" style=\"font-size:12px;vertical-align:-0.175em;width:12px;height:12px;box-sizing:content-box\"></i><i aria-hidden=\"true\" class=\"ld ld-StarFill\" style=\"font-size:12px;vertical-align:-0.175em;width:12px;height:12px;box-sizing:content-box\"></i><i aria-hidden=\"true\" class=\"ld ld-Star\" style=\"font-size:12px;vertical-align:-0.175em;width:12px;height:12px;box-sizing:content-box\"></i></span><span aria-hidden=\"true\" class=\"sans-serif gray f7\">25</span><span class=\"w_iUH7\">4.2 out of 5 Stars. 25 reviews</span></div><div></div><div class=\"flex items-center mv2\"><div class=\"f7 mr1 blue b lh-copy\">Save with</div><img alt=\"Walmart Plus\" class=\"flex\" height=\"20\" loading=\"lazy\" src=\"//i5.walmartimages.com/dfw/63fd9f59-ac39/29c6759d-7f14-49fa-bd3a-b870eb4fb8fb/v1/wplus-icon-blue.svg\" width=\"20\"/></div><div class=\"mv2\" data-automation-id=\"fulfillment-badge\"><div class=\"f7 flex self-baseline dark-gray\"><div>Free shipping, arrives <span class=\"b\">in 3+ days</span></div></div></div></div></div></div>,\n",
       " <div class=\"sans-serif mid-gray relative flex flex-column w-100 hide-child-opacity\" data-item-id=\"392ZB2COB54W\" role=\"group\"><a class=\"absolute w-100 h-100 z-1 hide-sibling-opacity\" href=\"/ip/SAMSUNG-86-Class-Crystal-UHD-2160P-LED-Smart-TV-UN86TU9010FXZA/594592565?from=/search\" link-identifier=\"594592565\" target=\"\"><span class=\"w_iUH7\">SAMSUNG 86\" Class Crystal UHD (2160P) LED Smart TV UN86TU9010FXZA<!-- --> </span></a><div class=\"\" data-testid=\"list-view\"><div class=\"\"><div class=\"h2 relative mb2\"></div><div class=\"relative\"><div class=\"relative overflow-hidden\" style=\"max-width:290px;height:0;padding-bottom:min(392px, 135.17241379310346%);align-self:center;width:min(290px, 100%)\"><img alt='SAMSUNG 86\" Class Crystal UHD (2160P) LED Smart TV UN86TU9010FXZA' class=\"absolute top-0 left-0\" data-testid=\"productTileImage\" height=\"\" id=\"is-0-productImage-6\" loading=\"lazy\" src=\"https://i5.walmartimages.com/asr/65c7705f-b1d9-42c0-bd84-770d9184f40d.ee3973dc921a1f0db2ddd7927c8188c7.jpeg?odnHeight=784&amp;odnWidth=580&amp;odnBg=FFFFFF\" srcset=\"https://i5.walmartimages.com/asr/65c7705f-b1d9-42c0-bd84-770d9184f40d.ee3973dc921a1f0db2ddd7927c8188c7.jpeg?odnHeight=392&amp;odnWidth=290&amp;odnBg=FFFFFF 1x, https://i5.walmartimages.com/asr/65c7705f-b1d9-42c0-bd84-770d9184f40d.ee3973dc921a1f0db2ddd7927c8188c7.jpeg?odnHeight=784&amp;odnWidth=580&amp;odnBg=FFFFFF 2x\" width=\"\"/></div><div class=\"z-2 absolute bottom--1\"><div class=\"relative dib\"><button aria-label='Add to cart - SAMSUNG 86\" Class Crystal UHD (2160P) LED Smart TV UN86TU9010FXZA' class=\"w_hhLG w_8nsR w_jDfj pointer bn sans-serif b ph2 flex items-center justify-center w-auto shadow-1\" data-automation-id=\"add-to-cart\" data-pcss-hide=\"true\" type=\"button\"><i class=\"ld ld-Plus\" style=\"font-size:1.5rem;vertical-align:-0.25em;width:1.5rem;height:1.5rem;box-sizing:content-box\" title=\"add to cart\"></i><span class=\"mr2\">Add</span></button></div></div></div><div class=\"mt5 mb0\" data-testid=\"variant-392ZB2COB54W\" style=\"height:24px\"></div></div><div class=\"\"><div class=\"flex flex-wrap justify-start items-center lh-title mb1\" data-automation-id=\"product-price\"><div aria-hidden=\"true\" class=\"mr1 mr2-xl b black lh-copy f5 f4-l\"><span class=\"f3 mr1\"></span><span class=\"f6 f5-l\" style=\"vertical-align:0.65ex;margin-right:2px\">$</span><span class=\"f2\">1,597</span><span class=\"f6 f5-l\" style=\"vertical-align:0.75ex\">99</span></div><span class=\"w_iUH7\">current price $1,597.99</span></div><span class=\"w_V_DM\" style=\"-webkit-line-clamp:3;padding-bottom:0em;margin-bottom:-0em\"><span class=\"normal dark-gray mb0 mt1 lh-title f6 f5-l lh-copy\" data-automation-id=\"product-title\">SAMSUNG 86\" Class Crystal UHD (2160P) LED Smart TV UN86TU9010FXZA</span></span><div class=\"flex items-center mt2\"><span class=\"black inline-flex mr1\"><i aria-hidden=\"true\" class=\"ld ld-StarFill\" style=\"font-size:12px;vertical-align:-0.175em;width:12px;height:12px;box-sizing:content-box\"></i><i aria-hidden=\"true\" class=\"ld ld-StarFill\" style=\"font-size:12px;vertical-align:-0.175em;width:12px;height:12px;box-sizing:content-box\"></i><i aria-hidden=\"true\" class=\"ld ld-StarFill\" style=\"font-size:12px;vertical-align:-0.175em;width:12px;height:12px;box-sizing:content-box\"></i><i aria-hidden=\"true\" class=\"ld ld-StarFill\" style=\"font-size:12px;vertical-align:-0.175em;width:12px;height:12px;box-sizing:content-box\"></i><i aria-hidden=\"true\" class=\"ld ld-StarHalf\" style=\"font-size:12px;vertical-align:-0.175em;width:12px;height:12px;box-sizing:content-box\"></i></span><span aria-hidden=\"true\" class=\"sans-serif gray f7\">244</span><span class=\"w_iUH7\">4.7 out of 5 Stars. 244 reviews</span></div><div></div><div class=\"mv2\" data-automation-id=\"fulfillment-badge\"><div class=\"f7 flex self-baseline dark-gray\"><div>Free shipping, arrives <span class=\"b\">in 3+ days</span></div></div></div></div></div></div>,\n",
       " <div class=\"sans-serif mid-gray relative flex flex-column w-100 hide-child-opacity\" data-item-id=\"3U6XQ3NEU8JM\" role=\"group\"><a class=\"absolute w-100 h-100 z-1 hide-sibling-opacity\" href=\"/ip/SAMSUNG-65-Class-CU7000B-Crystal-UHD-4K-Smart-Television-UN65CU7000BXZA/1890620486?athbdg=L1102&amp;from=/search\" link-identifier=\"1890620486\" target=\"\"><span class=\"w_iUH7\">SAMSUNG 65\" Class CU7000B Crystal UHD 4K Smart Television UN65CU7000BXZA<!-- --> </span></a><div class=\"\" data-testid=\"list-view\"><div class=\"\"><div class=\"h2 relative mb2\"><span class=\"w_yTSq b w_1L84 w_MwbK\">100+ bought since yesterday</span></div><div class=\"relative\"><div class=\"relative overflow-hidden\" style=\"max-width:290px;height:0;padding-bottom:min(392px, 135.17241379310346%);align-self:center;width:min(290px, 100%)\"><img alt='SAMSUNG 65\" Class CU7000B Crystal UHD 4K Smart Television UN65CU7000BXZA' class=\"absolute top-0 left-0\" data-testid=\"productTileImage\" height=\"\" id=\"is-0-productImage-7\" loading=\"lazy\" src=\"https://i5.walmartimages.com/asr/76061f73-bf65-4f71-934a-c42e5ffa8338.9fd15e6bb578750ebdde8027bfdd3bdc.jpeg?odnHeight=784&amp;odnWidth=580&amp;odnBg=FFFFFF\" srcset=\"https://i5.walmartimages.com/asr/76061f73-bf65-4f71-934a-c42e5ffa8338.9fd15e6bb578750ebdde8027bfdd3bdc.jpeg?odnHeight=392&amp;odnWidth=290&amp;odnBg=FFFFFF 1x, https://i5.walmartimages.com/asr/76061f73-bf65-4f71-934a-c42e5ffa8338.9fd15e6bb578750ebdde8027bfdd3bdc.jpeg?odnHeight=784&amp;odnWidth=580&amp;odnBg=FFFFFF 2x\" width=\"\"/></div><div class=\"z-2 absolute bottom--1\"><div class=\"relative dib\"><button aria-label='Add to cart - SAMSUNG 65\" Class CU7000B Crystal UHD 4K Smart Television UN65CU7000BXZA' class=\"w_hhLG w_8nsR w_jDfj pointer bn sans-serif b ph2 flex items-center justify-center w-auto shadow-1\" data-automation-id=\"add-to-cart\" data-pcss-hide=\"true\" type=\"button\"><i class=\"ld ld-Plus\" style=\"font-size:1.5rem;vertical-align:-0.25em;width:1.5rem;height:1.5rem;box-sizing:content-box\" title=\"add to cart\"></i><span class=\"mr2\">Add</span></button></div></div></div><div class=\"mt5 mb0\" data-testid=\"variant-3U6XQ3NEU8JM\" style=\"height:24px\"></div></div><div class=\"\"><div class=\"flex flex-wrap justify-start items-center lh-title mb1\" data-automation-id=\"product-price\"><div aria-hidden=\"true\" class=\"mr1 mr2-xl b black lh-copy f5 f4-l\"><span class=\"f3 mr1\"></span><span class=\"f6 f5-l\" style=\"vertical-align:0.65ex;margin-right:2px\">$</span><span class=\"f2\">477</span><span class=\"f6 f5-l\" style=\"vertical-align:0.75ex\">99</span></div><span class=\"w_iUH7\">current price $477.99</span></div><span class=\"w_V_DM\" style=\"-webkit-line-clamp:3;padding-bottom:0em;margin-bottom:-0em\"><span class=\"normal dark-gray mb0 mt1 lh-title f6 f5-l lh-copy\" data-automation-id=\"product-title\">SAMSUNG 65\" Class CU7000B Crystal UHD 4K Smart Television UN65CU7000BXZA</span></span><div class=\"flex items-center mt2\"><span class=\"black inline-flex mr1\"><i aria-hidden=\"true\" class=\"ld ld-StarFill\" style=\"font-size:12px;vertical-align:-0.175em;width:12px;height:12px;box-sizing:content-box\"></i><i aria-hidden=\"true\" class=\"ld ld-StarFill\" style=\"font-size:12px;vertical-align:-0.175em;width:12px;height:12px;box-sizing:content-box\"></i><i aria-hidden=\"true\" class=\"ld ld-StarFill\" style=\"font-size:12px;vertical-align:-0.175em;width:12px;height:12px;box-sizing:content-box\"></i><i aria-hidden=\"true\" class=\"ld ld-StarFill\" style=\"font-size:12px;vertical-align:-0.175em;width:12px;height:12px;box-sizing:content-box\"></i><i aria-hidden=\"true\" class=\"ld ld-StarHalf\" style=\"font-size:12px;vertical-align:-0.175em;width:12px;height:12px;box-sizing:content-box\"></i></span><span aria-hidden=\"true\" class=\"sans-serif gray f7\">748</span><span class=\"w_iUH7\">4.5 out of 5 Stars. 748 reviews</span></div><div></div><div class=\"flex items-center mv2\"><div class=\"f7 mr1 blue b lh-copy\">Save with</div><img alt=\"Walmart Plus\" class=\"flex\" height=\"20\" loading=\"lazy\" src=\"//i5.walmartimages.com/dfw/63fd9f59-ac39/29c6759d-7f14-49fa-bd3a-b870eb4fb8fb/v1/wplus-icon-blue.svg\" width=\"20\"/></div><div class=\"mv2\" data-automation-id=\"fulfillment-badge\"><div class=\"f7 flex self-baseline dark-gray\"><div>Free pickup <span class=\"b\">tomorrow</span></div></div><div class=\"f7 flex self-baseline dark-gray\"><div>Free shipping, arrives <span class=\"b\">in 2 days</span></div></div></div></div></div></div>,\n",
       " <div class=\"sans-serif mid-gray relative flex flex-column w-100 hide-child-opacity\" data-item-id=\"6CI6J1TG7AG1\" role=\"group\"><a class=\"absolute w-100 h-100 z-1 hide-sibling-opacity\" href=\"/ip/SAMSUNG-50-Class-4K-Crystal-UHD-2160P-LED-Smart-TV-with-HDR-UN50TU7000/897665280?from=/search\" link-identifier=\"897665280\" target=\"\"><span class=\"w_iUH7\">SAMSUNG 50\" Class 4K Crystal UHD (2160P) LED Smart TV with HDR UN50TU7000<!-- --> </span></a><div class=\"\" data-testid=\"list-view\"><div class=\"\"><div class=\"h2 relative mb2\"></div><div class=\"relative\"><div class=\"relative overflow-hidden\" style=\"max-width:290px;height:0;padding-bottom:min(392px, 135.17241379310346%);align-self:center;width:min(290px, 100%)\"><img alt='SAMSUNG 50\" Class 4K Crystal UHD (2160P) LED Smart TV with HDR UN50TU7000' class=\"absolute top-0 left-0\" data-testid=\"productTileImage\" height=\"\" id=\"is-0-productImage-8\" loading=\"lazy\" src=\"https://i5.walmartimages.com/asr/b4ff9566-69a0-473a-85ba-7740e55b5ad8.2d260ef5ebdbc7c93a3d9bb66f46f197.jpeg?odnHeight=784&amp;odnWidth=580&amp;odnBg=FFFFFF\" srcset=\"https://i5.walmartimages.com/asr/b4ff9566-69a0-473a-85ba-7740e55b5ad8.2d260ef5ebdbc7c93a3d9bb66f46f197.jpeg?odnHeight=392&amp;odnWidth=290&amp;odnBg=FFFFFF 1x, https://i5.walmartimages.com/asr/b4ff9566-69a0-473a-85ba-7740e55b5ad8.2d260ef5ebdbc7c93a3d9bb66f46f197.jpeg?odnHeight=784&amp;odnWidth=580&amp;odnBg=FFFFFF 2x\" width=\"\"/></div><div class=\"z-2 absolute bottom--1\"><div class=\"relative dib\"><button aria-label='Add to cart - SAMSUNG 50\" Class 4K Crystal UHD (2160P) LED Smart TV with HDR UN50TU7000' class=\"w_hhLG w_8nsR w_jDfj pointer bn sans-serif b ph2 flex items-center justify-center w-auto shadow-1\" data-automation-id=\"add-to-cart\" data-pcss-hide=\"true\" type=\"button\"><i class=\"ld ld-Plus\" style=\"font-size:1.5rem;vertical-align:-0.25em;width:1.5rem;height:1.5rem;box-sizing:content-box\" title=\"add to cart\"></i><span class=\"mr2\">Add</span></button></div></div></div><div class=\"mt5 mb0\" data-testid=\"variant-6CI6J1TG7AG1\" style=\"height:24px\"></div></div><div class=\"\"><div class=\"flex flex-wrap justify-start items-center lh-title mb1\" data-automation-id=\"product-price\"><div aria-hidden=\"true\" class=\"mr1 mr2-xl b black lh-copy f5 f4-l\"><span class=\"f3 mr1\"></span><span class=\"f6 f5-l\" style=\"vertical-align:0.65ex;margin-right:2px\">$</span><span class=\"f2\">549</span><span class=\"f6 f5-l\" style=\"vertical-align:0.75ex\">00</span></div><span class=\"w_iUH7\">current price $549.00</span></div><span class=\"w_V_DM\" style=\"-webkit-line-clamp:3;padding-bottom:0em;margin-bottom:-0em\"><span class=\"normal dark-gray mb0 mt1 lh-title f6 f5-l lh-copy\" data-automation-id=\"product-title\">SAMSUNG 50\" Class 4K Crystal UHD (2160P) LED Smart TV with HDR UN50TU7000</span></span><div class=\"flex items-center mt2\"><span class=\"black inline-flex mr1\"><i aria-hidden=\"true\" class=\"ld ld-StarFill\" style=\"font-size:12px;vertical-align:-0.175em;width:12px;height:12px;box-sizing:content-box\"></i><i aria-hidden=\"true\" class=\"ld ld-StarFill\" style=\"font-size:12px;vertical-align:-0.175em;width:12px;height:12px;box-sizing:content-box\"></i><i aria-hidden=\"true\" class=\"ld ld-StarFill\" style=\"font-size:12px;vertical-align:-0.175em;width:12px;height:12px;box-sizing:content-box\"></i><i aria-hidden=\"true\" class=\"ld ld-StarFill\" style=\"font-size:12px;vertical-align:-0.175em;width:12px;height:12px;box-sizing:content-box\"></i><i aria-hidden=\"true\" class=\"ld ld-StarHalf\" style=\"font-size:12px;vertical-align:-0.175em;width:12px;height:12px;box-sizing:content-box\"></i></span><span aria-hidden=\"true\" class=\"sans-serif gray f7\">10931</span><span class=\"w_iUH7\">4.5 out of 5 Stars. 10931 reviews</span></div><div></div><div class=\"mv2\" data-automation-id=\"fulfillment-badge\"><div class=\"f7 flex self-baseline dark-gray\"><div>Free shipping, arrives <span class=\"b\">in 3+ days</span></div></div></div></div></div></div>,\n",
       " <div class=\"sans-serif mid-gray relative flex flex-column w-100 hide-child-opacity\" data-item-id=\"7CXX5OM04PXD\" role=\"group\"><a class=\"absolute w-100 h-100 z-1 hide-sibling-opacity\" href=\"/ip/SAMSUNG-55-Class-CU7000B-Crystal-UHD-4K-Smart-Television-UN55CU7000BXZA/2761563576?athbdg=L1102&amp;from=/search\" link-identifier=\"2761563576\" target=\"\"><span class=\"w_iUH7\">SAMSUNG 55\" Class CU7000B Crystal UHD 4K Smart Television UN55CU7000BXZA<!-- --> </span></a><div class=\"\" data-testid=\"list-view\"><div class=\"\"><div class=\"h2 relative mb2\"><span class=\"w_yTSq b w_1L84 w_MwbK\">100+ bought since yesterday</span></div><div class=\"relative\"><div class=\"relative overflow-hidden\" style=\"max-width:290px;height:0;padding-bottom:min(392px, 135.17241379310346%);align-self:center;width:min(290px, 100%)\"><img alt='SAMSUNG 55\" Class CU7000B Crystal UHD 4K Smart Television UN55CU7000BXZA' class=\"absolute top-0 left-0\" data-testid=\"productTileImage\" height=\"\" id=\"is-0-productImage-9\" loading=\"lazy\" src=\"https://i5.walmartimages.com/asr/76061f73-bf65-4f71-934a-c42e5ffa8338.9fd15e6bb578750ebdde8027bfdd3bdc.jpeg?odnHeight=784&amp;odnWidth=580&amp;odnBg=FFFFFF\" srcset=\"https://i5.walmartimages.com/asr/76061f73-bf65-4f71-934a-c42e5ffa8338.9fd15e6bb578750ebdde8027bfdd3bdc.jpeg?odnHeight=392&amp;odnWidth=290&amp;odnBg=FFFFFF 1x, https://i5.walmartimages.com/asr/76061f73-bf65-4f71-934a-c42e5ffa8338.9fd15e6bb578750ebdde8027bfdd3bdc.jpeg?odnHeight=784&amp;odnWidth=580&amp;odnBg=FFFFFF 2x\" width=\"\"/></div><div class=\"z-2 absolute bottom--1\"><div class=\"relative dib\"><button aria-label='Add to cart - SAMSUNG 55\" Class CU7000B Crystal UHD 4K Smart Television UN55CU7000BXZA' class=\"w_hhLG w_8nsR w_jDfj pointer bn sans-serif b ph2 flex items-center justify-center w-auto shadow-1\" data-automation-id=\"add-to-cart\" data-pcss-hide=\"true\" type=\"button\"><i class=\"ld ld-Plus\" style=\"font-size:1.5rem;vertical-align:-0.25em;width:1.5rem;height:1.5rem;box-sizing:content-box\" title=\"add to cart\"></i><span class=\"mr2\">Add</span></button></div></div></div><div class=\"mt5 mb0\" data-testid=\"variant-7CXX5OM04PXD\" style=\"height:24px\"></div></div><div class=\"\"><div class=\"flex flex-wrap justify-start items-center lh-title mb1\" data-automation-id=\"product-price\"><div aria-hidden=\"true\" class=\"mr1 mr2-xl b black lh-copy f5 f4-l\"><span class=\"f3 mr1\"></span><span class=\"f6 f5-l\" style=\"vertical-align:0.65ex;margin-right:2px\">$</span><span class=\"f2\">377</span><span class=\"f6 f5-l\" style=\"vertical-align:0.75ex\">99</span></div><span class=\"w_iUH7\">current price $377.99</span></div><span class=\"w_V_DM\" style=\"-webkit-line-clamp:3;padding-bottom:0em;margin-bottom:-0em\"><span class=\"normal dark-gray mb0 mt1 lh-title f6 f5-l lh-copy\" data-automation-id=\"product-title\">SAMSUNG 55\" Class CU7000B Crystal UHD 4K Smart Television UN55CU7000BXZA</span></span><div class=\"flex items-center mt2\"><span class=\"black inline-flex mr1\"><i aria-hidden=\"true\" class=\"ld ld-StarFill\" style=\"font-size:12px;vertical-align:-0.175em;width:12px;height:12px;box-sizing:content-box\"></i><i aria-hidden=\"true\" class=\"ld ld-StarFill\" style=\"font-size:12px;vertical-align:-0.175em;width:12px;height:12px;box-sizing:content-box\"></i><i aria-hidden=\"true\" class=\"ld ld-StarFill\" style=\"font-size:12px;vertical-align:-0.175em;width:12px;height:12px;box-sizing:content-box\"></i><i aria-hidden=\"true\" class=\"ld ld-StarFill\" style=\"font-size:12px;vertical-align:-0.175em;width:12px;height:12px;box-sizing:content-box\"></i><i aria-hidden=\"true\" class=\"ld ld-StarHalf\" style=\"font-size:12px;vertical-align:-0.175em;width:12px;height:12px;box-sizing:content-box\"></i></span><span aria-hidden=\"true\" class=\"sans-serif gray f7\">652</span><span class=\"w_iUH7\">4.5 out of 5 Stars. 652 reviews</span></div><div></div><div class=\"flex items-center mv2\"><div class=\"f7 mr1 blue b lh-copy\">Save with</div><img alt=\"Walmart Plus\" class=\"flex\" height=\"20\" loading=\"lazy\" src=\"//i5.walmartimages.com/dfw/63fd9f59-ac39/29c6759d-7f14-49fa-bd3a-b870eb4fb8fb/v1/wplus-icon-blue.svg\" width=\"20\"/></div><div class=\"mv2\" data-automation-id=\"fulfillment-badge\"><div class=\"f7 flex self-baseline dark-gray\"><div>Free pickup <span class=\"b\">tomorrow</span></div></div><div class=\"f7 flex self-baseline dark-gray\"><div>Delivery <span class=\"b\">tomorrow</span></div></div><div class=\"f7 flex self-baseline dark-gray\"><div>Free shipping, arrives <span class=\"b\">in 2 days</span></div></div></div></div></div></div>]"
      ]
     },
     "execution_count": 13,
     "metadata": {},
     "output_type": "execute_result"
    }
   ],
   "source": [
    "soup.findAll('div',{'class':'sans-serif mid-gray relative flex flex-column w-100 hide-child-opacity'})"
   ]
  },
  {
   "cell_type": "code",
   "execution_count": 14,
   "id": "8a9e33bb-0613-4202-920a-8e61525a0595",
   "metadata": {},
   "outputs": [],
   "source": [
    "# data_id=[]\n",
    "# response=getWalmartSearch('samsung-smart-tvs')\n",
    "# soup=BeautifulSoup(response.content)\n",
    "# for i in soup.findAll('div',{'class':'sans-serif mid-gray relative flex flex-column w-100 hide-child-opacity'}):\n",
    "#     data_id.append(i.a['href'].split('/')[-1].split('?')[0])"
   ]
  },
  {
   "cell_type": "code",
   "execution_count": 15,
   "id": "553c3159-c27a-4ddf-ac7f-538aac057eb7",
   "metadata": {},
   "outputs": [],
   "source": [
    "def getWalmartSearch(search_query):\n",
    "    url=\"https://www.walmart.com/search/?query=\"+search_query\n",
    "    print(url)\n",
    "    page=requests.get(url,headers=header)\n",
    "    if page.status_code==200:\n",
    "        return page\n",
    "    else:\n",
    "        return \"Error\""
   ]
  },
  {
   "cell_type": "code",
   "execution_count": 16,
   "id": "cfbbaf88-4a6e-46f9-84b2-4053b089decc",
   "metadata": {},
   "outputs": [
    {
     "name": "stdout",
     "output_type": "stream",
     "text": [
      "https://www.walmart.com/search/?query=samsung-smart-tvs\n"
     ]
    }
   ],
   "source": [
    "data_id=[]\n",
    "response=getWalmartSearch('samsung-smart-tvs')\n",
    "soup=BeautifulSoup(response.content)\n",
    "for i in soup.findAll(\"a\",{'class':\"absolute w-100 h-100 z-1 hide-sibling-opacity\"}):\n",
    "    data_id.append(i['link-identifier'])"
   ]
  },
  {
   "cell_type": "code",
   "execution_count": 17,
   "id": "b1bcf992-4542-4392-954b-63e7b3db3649",
   "metadata": {},
   "outputs": [
    {
     "data": {
      "text/plain": [
       "200"
      ]
     },
     "execution_count": 17,
     "metadata": {},
     "output_type": "execute_result"
    }
   ],
   "source": [
    "response.status_code"
   ]
  },
  {
   "cell_type": "code",
   "execution_count": 18,
   "id": "03e2acac-35ab-4672-91e6-637e7da94a2e",
   "metadata": {},
   "outputs": [
    {
     "data": {
      "text/plain": [
       "['2457273081', '1442505819', '2351468783', '2200160906', '933852540']"
      ]
     },
     "execution_count": 18,
     "metadata": {},
     "output_type": "execute_result"
    }
   ],
   "source": [
    "data_id[:5]"
   ]
  },
  {
   "cell_type": "code",
   "execution_count": 19,
   "id": "63466992-8e62-41ba-a0f3-2ac847182927",
   "metadata": {},
   "outputs": [],
   "source": [
    "reviews=[]\n",
    "for j,k in zip(data_id,range(1,20)):\n",
    "    response=requests.get('https://www.walmart.com/reviews/product/'+str(j)+'?page='+str(k),headers=header)\n",
    "    soup=BeautifulSoup(response.content)\n",
    "    for i in soup.findAll(\"div\",{'class': \"w_0Uhy w_QddF\"}):\n",
    "        reviews.append(i.text)"
   ]
  },
  {
   "cell_type": "code",
   "execution_count": 20,
   "id": "3a906b7b-d8be-4bcc-8423-49443d9ef657",
   "metadata": {},
   "outputs": [],
   "source": [
    "rev={'reviews':reviews}"
   ]
  },
  {
   "cell_type": "code",
   "execution_count": 21,
   "id": "a3c76219-58a2-498b-a96f-444fc3988b8b",
   "metadata": {},
   "outputs": [],
   "source": [
    "review_data=pd.DataFrame.from_dict(rev)\n",
    "pd.set_option('max_colwidth',800)"
   ]
  },
  {
   "cell_type": "code",
   "execution_count": 22,
   "id": "fde95fd5-ddb7-41fe-a2c8-bc7e22311c86",
   "metadata": {},
   "outputs": [
    {
     "data": {
      "text/html": [
       "<div>\n",
       "<style scoped>\n",
       "    .dataframe tbody tr th:only-of-type {\n",
       "        vertical-align: middle;\n",
       "    }\n",
       "\n",
       "    .dataframe tbody tr th {\n",
       "        vertical-align: top;\n",
       "    }\n",
       "\n",
       "    .dataframe thead th {\n",
       "        text-align: right;\n",
       "    }\n",
       "</style>\n",
       "<table border=\"1\" class=\"dataframe\">\n",
       "  <thead>\n",
       "    <tr style=\"text-align: right;\">\n",
       "      <th></th>\n",
       "      <th>reviews</th>\n",
       "    </tr>\n",
       "  </thead>\n",
       "  <tbody>\n",
       "    <tr>\n",
       "      <th>0</th>\n",
       "      <td>4 out of 5 stars reviewGreat features, able to play Xbox without console[This review was collected as part of a promotion.] Love the Xbox gaming feature without the need for a console to be connected directly to the TV. Great picture and colors. One Con is that the TV sometimes is slow to respond to changes when using the remote and line of site is clear.OhMarcPaulWritten by aSamsung UScustomerSamsung Brand AmbassadorHi OhMarcPaul,\\n\\nI'm happy to hear you are enjoying your new CU8000 TV with Samsung Gaming Hub. If you are experiencing issues...See more</td>\n",
       "    </tr>\n",
       "    <tr>\n",
       "      <th>1</th>\n",
       "      <td>1 out of 5 stars reviewBlack dot on screenJust purchase this tv and a little disappointed that there's a black dot in the middle of the screen. It's not awful, just annoying, wish I would've went with the LG.JasonWritten by aSamsung UScustomerSamsung Brand AmbassadorHi Jason,\\n\\nThank you for purchasing the Samsung CU8000 TV and for sharing your experience with your TV not displaying properl...See more</td>\n",
       "    </tr>\n",
       "    <tr>\n",
       "      <th>2</th>\n",
       "      <td>5 out of 5 stars review8/8/2023TV is so simple to use.[This review was collected as part of a promotion.] This Samsung Crystal UHD TV we just purchased is great.  It has everything at your fingertips!\\nSo easy, even my husband can use it . Has a dedicated button for the main apps and home screen where you can add many many more.  \\nOnly wished the remote was a little larger and the buttons would light up.Sunshine00Written by aSamsung UScustomer</td>\n",
       "    </tr>\n",
       "    <tr>\n",
       "      <th>3</th>\n",
       "      <td>5 out of 5 stars review6/1/2023Incredible Ease of navigation[This review was collected as part of a promotion.] For someone being new to the smart TVs, this TV did not confuse me as I imagined it would. I was able to easily navigate set up and scrolling through like smart things. I can now easily, pair my phone with the  tv and go from app to game with ease.Homewrecker10Written by aSamsung UScustomer</td>\n",
       "    </tr>\n",
       "    <tr>\n",
       "      <th>4</th>\n",
       "      <td>5 out of 5 stars review4/29/2023it connects so seamlessly with my samsung earbuds[This review was collected as part of a promotion.] I love the Dex program on my phone so I use it as a giant entertainment and live streaming computer. Really gets the job done in social environments. I bought this TV for my personal out house but since I paired it with my PS5, book3 360 pro, and samsung earbuds I stay in the outhouse majority of the time.Angeldust20Written by aSamsung UScustomer</td>\n",
       "    </tr>\n",
       "  </tbody>\n",
       "</table>\n",
       "</div>"
      ],
      "text/plain": [
       "                                                                                                                                                                                                                                                                                                                                                                                                                                                                                                                                                                           reviews\n",
       "0  4 out of 5 stars reviewGreat features, able to play Xbox without console[This review was collected as part of a promotion.] Love the Xbox gaming feature without the need for a console to be connected directly to the TV. Great picture and colors. One Con is that the TV sometimes is slow to respond to changes when using the remote and line of site is clear.OhMarcPaulWritten by aSamsung UScustomerSamsung Brand AmbassadorHi OhMarcPaul,\\n\\nI'm happy to hear you are enjoying your new CU8000 TV with Samsung Gaming Hub. If you are experiencing issues...See more\n",
       "1                                                                                                                                                            1 out of 5 stars reviewBlack dot on screenJust purchase this tv and a little disappointed that there's a black dot in the middle of the screen. It's not awful, just annoying, wish I would've went with the LG.JasonWritten by aSamsung UScustomerSamsung Brand AmbassadorHi Jason,\\n\\nThank you for purchasing the Samsung CU8000 TV and for sharing your experience with your TV not displaying properl...See more\n",
       "2                                                                                                                 5 out of 5 stars review8/8/2023TV is so simple to use.[This review was collected as part of a promotion.] This Samsung Crystal UHD TV we just purchased is great.  It has everything at your fingertips!\\nSo easy, even my husband can use it . Has a dedicated button for the main apps and home screen where you can add many many more.  \\nOnly wished the remote was a little larger and the buttons would light up.Sunshine00Written by aSamsung UScustomer\n",
       "3                                                                                                                                                              5 out of 5 stars review6/1/2023Incredible Ease of navigation[This review was collected as part of a promotion.] For someone being new to the smart TVs, this TV did not confuse me as I imagined it would. I was able to easily navigate set up and scrolling through like smart things. I can now easily, pair my phone with the  tv and go from app to game with ease.Homewrecker10Written by aSamsung UScustomer\n",
       "4                                                                                5 out of 5 stars review4/29/2023it connects so seamlessly with my samsung earbuds[This review was collected as part of a promotion.] I love the Dex program on my phone so I use it as a giant entertainment and live streaming computer. Really gets the job done in social environments. I bought this TV for my personal out house but since I paired it with my PS5, book3 360 pro, and samsung earbuds I stay in the outhouse majority of the time.Angeldust20Written by aSamsung UScustomer"
      ]
     },
     "execution_count": 22,
     "metadata": {},
     "output_type": "execute_result"
    }
   ],
   "source": [
    "review_data.head(5)"
   ]
  },
  {
   "cell_type": "code",
   "execution_count": 23,
   "id": "f513e1e6-488e-4513-919b-1c75a15f1b40",
   "metadata": {},
   "outputs": [],
   "source": [
    "review_data.to_csv('walmart_reviews.csv') #converting the dataframe to a csv file so as to use it later for further analysis"
   ]
  },
  {
   "cell_type": "code",
   "execution_count": 24,
   "id": "580ff91a-1e27-4764-ad41-868d910bfd54",
   "metadata": {},
   "outputs": [
    {
     "data": {
      "text/plain": [
       "(286, 1)"
      ]
     },
     "execution_count": 24,
     "metadata": {},
     "output_type": "execute_result"
    }
   ],
   "source": [
    "review_data.shape"
   ]
  },
  {
   "cell_type": "code",
   "execution_count": null,
   "id": "37c36b10-e167-41be-aff8-dcca684c26e8",
   "metadata": {},
   "outputs": [],
   "source": []
  },
  {
   "cell_type": "code",
   "execution_count": null,
   "id": "9eda7b0e-a1a8-4f48-942d-42672e960a18",
   "metadata": {},
   "outputs": [],
   "source": []
  },
  {
   "cell_type": "code",
   "execution_count": null,
   "id": "12ee497f-55f9-438e-8724-0abc116db4fc",
   "metadata": {},
   "outputs": [],
   "source": []
  },
  {
   "cell_type": "code",
   "execution_count": null,
   "id": "2ce27805-623d-4c6b-a370-06d7a2962a6f",
   "metadata": {},
   "outputs": [],
   "source": []
  },
  {
   "cell_type": "code",
   "execution_count": null,
   "id": "de968612-0cf2-487f-9b26-109e4be1fd59",
   "metadata": {},
   "outputs": [],
   "source": []
  }
 ],
 "metadata": {
  "kernelspec": {
   "display_name": "Python 3 (ipykernel)",
   "language": "python",
   "name": "python3"
  },
  "language_info": {
   "codemirror_mode": {
    "name": "ipython",
    "version": 3
   },
   "file_extension": ".py",
   "mimetype": "text/x-python",
   "name": "python",
   "nbconvert_exporter": "python",
   "pygments_lexer": "ipython3",
   "version": "3.11.4"
  }
 },
 "nbformat": 4,
 "nbformat_minor": 5
}
